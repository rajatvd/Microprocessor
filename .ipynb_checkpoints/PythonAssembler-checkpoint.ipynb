{
 "cells": [
  {
   "cell_type": "markdown",
   "metadata": {},
   "source": [
    "# Python assembler for the microprocessor made in EE2016 (Jul-Nov 2017)\n",
    "## Rajat Vadiraj Dwaraknath EE16B033\n",
    "\n",
    "The cells which are by default raw cells are used to test the modules defined above them. Comment out the writefile magic at the top of each cell before using these test cells.\n",
    "\n",
    "The basic instruction format is:\n",
    "\n",
    "4 bit reg address of operand2; 4 bit reg address of operand1; 4 bit reg address of destination; 4 bit opcode;\n",
    "\n",
    "operand2 is optional.\n",
    "\n",
    "Mnemonics which end with the character 'I' are immediate instructions. They usually substitute one of the register values with a literal value, which can take upto 8 bits, after 4 for opcode and 4 for operand1.\n",
    "\n",
    "Labels are referenced with the $ symbol.\n",
    "\n",
    "Literals are created with the # symbol.\n",
    "\n",
    "This assembler currently does not enforce syntax."
   ]
  },
  {
   "cell_type": "code",
   "execution_count": 1,
   "metadata": {
    "collapsed": false
   },
   "outputs": [
    {
     "name": "stdout",
     "output_type": "stream",
     "text": [
      "Overwriting pythonAssemble.py\n"
     ]
    }
   ],
   "source": [
    "%%writefile pythonAssemble.py\n",
    "# Python assembler for microprocessor made in EE2016 (Jul-Nov 2017)\n",
    "# Author: Rajat Vadiraj Dwaraknath EE16B033\n",
    "import re\n"
   ]
  },
  {
   "cell_type": "raw",
   "metadata": {},
   "source": [
    "import re\n",
    "sText = \"\"\n",
    "with open(\"test.myasm\") as f:\n",
    "    sText = f.read()\n",
    "sLines = sText.split(\"\\n\")\n",
    "sLines = [l.strip().upper() for l in sLines]"
   ]
  },
  {
   "cell_type": "code",
   "execution_count": 2,
   "metadata": {
    "collapsed": false
   },
   "outputs": [
    {
     "name": "stdout",
     "output_type": "stream",
     "text": [
      "Appending to pythonAssemble.py\n"
     ]
    }
   ],
   "source": [
    "%%writefile pythonAssemble.py -a\n",
    "\n",
    "DATA_LOC = 128\n",
    "MEMORY_VAR = \"memory\"\n",
    "MACRO_NAME = \"writeRam\"\n",
    "\n",
    "OPCODE = {\n",
    "    \"ADD\":0,\n",
    "    \"SUB\":1,\n",
    "    \"AND\":2,\n",
    "    \"OR\":3,\n",
    "    \"LS\":4,\n",
    "    \"RS\":5,\n",
    "    \"LDI\":6,\n",
    "    \"STI\":7,\n",
    "    \"MOV\":8,\n",
    "    \"LD\":9,\n",
    "    \"ST\":10,\n",
    "    \"CMP\":11,\n",
    "    \"BCI\":12,\n",
    "    \"BNEI\":13,\n",
    "    \"BI\":14,\n",
    "}"
   ]
  },
  {
   "cell_type": "code",
   "execution_count": 3,
   "metadata": {
    "collapsed": false
   },
   "outputs": [
    {
     "name": "stdout",
     "output_type": "stream",
     "text": [
      "Appending to pythonAssemble.py\n"
     ]
    }
   ],
   "source": [
    "%%writefile pythonAssemble.py -a\n",
    "\n",
    "\n",
    "def removeEmptyLines(lines):\n",
    "    return [line for line in lines if line.strip()!=\"\"]"
   ]
  },
  {
   "cell_type": "raw",
   "metadata": {},
   "source": [
    "sLines = removeEmptyLines(sLines)\n",
    "sLines"
   ]
  },
  {
   "cell_type": "code",
   "execution_count": 4,
   "metadata": {
    "collapsed": false
   },
   "outputs": [
    {
     "name": "stdout",
     "output_type": "stream",
     "text": [
      "Appending to pythonAssemble.py\n"
     ]
    }
   ],
   "source": [
    "%%writefile pythonAssemble.py -a\n",
    "\n",
    "\n",
    "def getLabels(lines):\n",
    "    labs = {\"PROGRAM\":1, \"DATA\":DATA_LOC}\n",
    "    reserved = [\"PROGRAM\", \"DATA\"]\n",
    "    for i,line in enumerate(lines):\n",
    "        if \":\" in line:\n",
    "            l = line.split(\":\")[0].strip()\n",
    "            if l not in reserved:\n",
    "                labs[l] = i;\n",
    "    return labs"
   ]
  },
  {
   "cell_type": "raw",
   "metadata": {},
   "source": [
    "sLabs = getLabels(sLines)\n",
    "sLabs"
   ]
  },
  {
   "cell_type": "code",
   "execution_count": 5,
   "metadata": {
    "collapsed": false
   },
   "outputs": [
    {
     "name": "stdout",
     "output_type": "stream",
     "text": [
      "Appending to pythonAssemble.py\n"
     ]
    }
   ],
   "source": [
    "%%writefile pythonAssemble.py -a\n",
    "\n",
    "\n",
    "def compileLine(line,labels):\n",
    "    s = \"\"\n",
    "    if \":\" in line:\n",
    "        line = line.split(\":\")[1].strip()\n",
    "        \n",
    "    ops = filter(None, re.split(\"[, ]+\", line))\n",
    "    if len(ops)==0:\n",
    "        return \"\"\n",
    "    opcode = ops[0]\n",
    "    s = \"{:04b}\".format(OPCODE[ops[0]])\n",
    "    if opcode[-1] == 'I':\n",
    "        for op in ops[1:]:\n",
    "            if op[0]=='R':\n",
    "                s = \"{:04b}\".format(int(op[1:])) + s\n",
    "            elif op[0]=='#':\n",
    "                s = \"{:b}\".format(int(op[1:])) + s\n",
    "            elif op[0]=='$':\n",
    "                s = \"{:b}\".format(labels[op[1:]]) + s\n",
    "    else:        \n",
    "        for op in ops[1:]:\n",
    "            s = \"{:04b}\".format(int(op[1:])) + s\n",
    "            \n",
    "    s = \"0\"*(16-len(s))+s\n",
    "    s = \"16'b\"+s\n",
    "    return s\n",
    "    "
   ]
  },
  {
   "cell_type": "raw",
   "metadata": {},
   "source": [
    "print sLines\n",
    "[compileLine(s, sLabs) for s in sLines[:-3]]"
   ]
  },
  {
   "cell_type": "code",
   "execution_count": 6,
   "metadata": {
    "collapsed": false
   },
   "outputs": [
    {
     "name": "stdout",
     "output_type": "stream",
     "text": [
      "Appending to pythonAssemble.py\n"
     ]
    }
   ],
   "source": [
    "%%writefile pythonAssemble.py -a\n",
    "\n",
    "\n",
    "def compileIntoM(text):\n",
    "    lines = text.split(\"\\n\")\n",
    "    lines = [l.strip().upper() for l in lines]\n",
    "    lines = removeEmptyLines(lines)\n",
    "    \n",
    "    labels = getLabels(lines)\n",
    "    \n",
    "    \n",
    "    i=1\n",
    "    line = lines[i]\n",
    "    output = \"`define {} \\\\\\n\".format(MACRO_NAME)\n",
    "    while line != 'DATA:':\n",
    "        \n",
    "        instcode = compileLine(line,labels)\n",
    "        output += \"{0}[{1}] = {2};\".format(MEMORY_VAR,i,instcode) + \" \\\\\\n\"\n",
    "        \n",
    "        i+=1\n",
    "        line = lines[i]\n",
    "        \n",
    "    for j,line in enumerate(lines[i+1:]):\n",
    "        output += \"{0}[{1}] = {2};\".format(MEMORY_VAR,j+DATA_LOC,line.strip()) + \" \\\\\\n\"\n",
    "        \n",
    "    return output"
   ]
  },
  {
   "cell_type": "raw",
   "metadata": {},
   "source": [
    "print compileIntoM(sText)"
   ]
  },
  {
   "cell_type": "code",
   "execution_count": 7,
   "metadata": {
    "collapsed": false
   },
   "outputs": [
    {
     "name": "stdout",
     "output_type": "stream",
     "text": [
      "Appending to pythonAssemble.py\n"
     ]
    }
   ],
   "source": [
    "%%writefile pythonAssemble.py -a\n",
    "\n",
    "\n",
    "import sys\n",
    "filename = sys.argv[1]\n",
    "outname = \"code.v\"\n",
    "with open(filename) as f:\n",
    "    text = f.read()\n",
    "    compiledstring = compileIntoM(text)\n",
    "\n",
    "with open(outname,\"w\") as f:\n",
    "    f.write(compiledstring)"
   ]
  },
  {
   "cell_type": "code",
   "execution_count": 8,
   "metadata": {
    "collapsed": false
   },
   "outputs": [
    {
     "name": "stdout",
     "output_type": "stream",
     "text": [
      "Overwriting test.myasm\n"
     ]
    }
   ],
   "source": [
    "%%writefile test.myasm\n",
    "PROgRAM:\n",
    "LDI R0,$DATA\n",
    "LDI R13,#1\n",
    "LD R1,R0\n",
    "Addstmt : ADD R0  ,R0,R13\n",
    "LD R2,R0\n",
    "\n",
    "loop: ADD R5,R5,R1\n",
    "SUB R2,R2,R13\n",
    "BNEI $loop\n",
    "\n",
    "DATA:\n",
    "15\n",
    "4"
   ]
  },
  {
   "cell_type": "code",
   "execution_count": 9,
   "metadata": {
    "collapsed": false
   },
   "outputs": [],
   "source": [
    "!python pythonAssemble.py test.myasm"
   ]
  },
  {
   "cell_type": "code",
   "execution_count": null,
   "metadata": {
    "collapsed": true
   },
   "outputs": [],
   "source": []
  }
 ],
 "metadata": {
  "kernelspec": {
   "display_name": "Python 2",
   "language": "python",
   "name": "python2"
  },
  "language_info": {
   "codemirror_mode": {
    "name": "ipython",
    "version": 2
   },
   "file_extension": ".py",
   "mimetype": "text/x-python",
   "name": "python",
   "nbconvert_exporter": "python",
   "pygments_lexer": "ipython2",
   "version": "2.7.12"
  }
 },
 "nbformat": 4,
 "nbformat_minor": 0
}
