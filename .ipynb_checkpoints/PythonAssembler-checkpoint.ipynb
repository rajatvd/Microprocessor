{
 "cells": [
  {
   "cell_type": "code",
   "execution_count": 97,
   "metadata": {
    "collapsed": false
   },
   "outputs": [],
   "source": [
    "%%writefile pythonAssemble.py\n",
    "#Assemble\n",
    "import re\n"
   ]
  },
  {
   "cell_type": "code",
   "execution_count": 110,
   "metadata": {
    "collapsed": true
   },
   "outputs": [],
   "source": [
    "sText = \"\"\n",
    "with open(\"test.myasm\") as f:\n",
    "    sText = f.read()\n",
    "sLines = sText.split(\"\\n\")\n",
    "sLines = [l.strip().upper() for l in sLines]"
   ]
  },
  {
   "cell_type": "code",
   "execution_count": 199,
   "metadata": {
    "collapsed": true
   },
   "outputs": [],
   "source": [
    "%%writefile pythonAssemble.py -a\n",
    "\n",
    "DATA_LOC = 128\n",
    "MEMORY_VAR = \"memory\"\n",
    "MACRO_NAME = \"writeRam\"\n",
    "\n",
    "OPCODE = {\n",
    "    \"ADD\":0,\n",
    "    \"SUB\":1,\n",
    "    \"AND\":2,\n",
    "    \"OR\":3,\n",
    "    \"LS\":4,\n",
    "    \"RS\":5,\n",
    "    \"LDI\":6,\n",
    "    \"STI\":7,\n",
    "    \"MOV\":8,\n",
    "    \"LD\":9,\n",
    "    \"ST\":10,\n",
    "}"
   ]
  },
  {
   "cell_type": "code",
   "execution_count": 150,
   "metadata": {
    "collapsed": true
   },
   "outputs": [],
   "source": [
    "%%writefile pythonAssemble.py -a\n",
    "\n",
    "\n",
    "def removeEmptyLines(lines):\n",
    "    return [line for line in lines if line.strip()!=\"\"]"
   ]
  },
  {
   "cell_type": "code",
   "execution_count": 151,
   "metadata": {
    "collapsed": false
   },
   "outputs": [
    {
     "data": {
      "text/plain": [
       "['PROGRAM:',\n",
       " 'LDI R0,$DATA',\n",
       " 'LDI R13,#1',\n",
       " 'LD R1,R0',\n",
       " 'ADDSTMT : ADD R0  ,R0,R13',\n",
       " 'LD R2,R0',\n",
       " 'ADD R3,R1,R2',\n",
       " 'DATA:',\n",
       " '15',\n",
       " '4']"
      ]
     },
     "execution_count": 151,
     "metadata": {},
     "output_type": "execute_result"
    }
   ],
   "source": [
    "sLines = removeEmptyLines(sLines)\n",
    "sLines"
   ]
  },
  {
   "cell_type": "code",
   "execution_count": 152,
   "metadata": {
    "collapsed": false
   },
   "outputs": [],
   "source": [
    "%%writefile pythonAssemble.py -a\n",
    "\n",
    "\n",
    "def getLabels(lines):\n",
    "    labs = {\"PROGRAM\":1, \"DATA\":DATA_LOC}\n",
    "    reserved = [\"PROGRAM\", \"DATA\"]\n",
    "    for i,line in enumerate(lines):\n",
    "        if \":\" in line:\n",
    "            l = line.split(\":\")[0].strip()\n",
    "            if l not in reserved:\n",
    "                labs[l] = i;\n",
    "    return labs"
   ]
  },
  {
   "cell_type": "code",
   "execution_count": 153,
   "metadata": {
    "collapsed": false
   },
   "outputs": [
    {
     "data": {
      "text/plain": [
       "{'ADDSTMT': 4, 'DATA': 128, 'PROGRAM': 1}"
      ]
     },
     "execution_count": 153,
     "metadata": {},
     "output_type": "execute_result"
    }
   ],
   "source": [
    "sLabs = getLabels(sLines)\n",
    "sLabs"
   ]
  },
  {
   "cell_type": "code",
   "execution_count": 172,
   "metadata": {
    "collapsed": true
   },
   "outputs": [],
   "source": [
    "%%writefile pythonAssemble.py -a\n",
    "\n",
    "\n",
    "def compileLine(line,labels):\n",
    "    s = \"\"\n",
    "    if \":\" in line:\n",
    "        line = line.split(\":\")[1].strip()\n",
    "        \n",
    "    ops = filter(None, re.split(\"[, ]+\", line))\n",
    "    if len(ops)==0:\n",
    "        return \"\"\n",
    "    opcode = ops[0]\n",
    "    s = \"{:04b}\".format(OPCODE[ops[0]])\n",
    "    if opcode[-1] == 'I':\n",
    "        for op in ops[1:]:\n",
    "            if op[0]=='R':\n",
    "                s = \"{:04b}\".format(int(op[1:])) + s\n",
    "            elif op[0]=='#':\n",
    "                s = \"{:b}\".format(int(op[1:])) + s\n",
    "            elif op[0]=='$':\n",
    "                s = \"{:b}\".format(labels[op[1:]]) + s\n",
    "    else:        \n",
    "        for op in ops[1:]:\n",
    "            s = \"{:04b}\".format(int(op[1:])) + s\n",
    "            \n",
    "    s = \"0\"*(16-len(s))+s\n",
    "    s = \"16'b\"+s\n",
    "    return s\n",
    "    "
   ]
  },
  {
   "cell_type": "code",
   "execution_count": 174,
   "metadata": {
    "collapsed": false
   },
   "outputs": [
    {
     "name": "stdout",
     "output_type": "stream",
     "text": [
      "['PROGRAM:', 'LDI R0,$DATA', 'LDI R13,#1', 'LD R1,R0', 'ADDSTMT : ADD R0  ,R0,R13', 'LD R2,R0', 'ADD R3,R1,R2', 'DATA:', '15', '4']\n"
     ]
    },
    {
     "data": {
      "text/plain": [
       "['',\n",
       " \"16'b1000000000000110\",\n",
       " \"16'b0000000111010110\",\n",
       " \"16'b0000000000011001\",\n",
       " \"16'b1101000000000000\",\n",
       " \"16'b0000000000101001\",\n",
       " \"16'b0010000100110000\"]"
      ]
     },
     "execution_count": 174,
     "metadata": {},
     "output_type": "execute_result"
    }
   ],
   "source": [
    "print sLines\n",
    "[compileLine(s, sLabs) for s in sLines[:-3]]"
   ]
  },
  {
   "cell_type": "code",
   "execution_count": 204,
   "metadata": {
    "collapsed": false
   },
   "outputs": [],
   "source": [
    "%%writefile pythonAssemble.py -a\n",
    "\n",
    "\n",
    "def compileIntoM(text):\n",
    "    lines = text.split(\"\\n\")\n",
    "    lines = [l.strip().upper() for l in lines]\n",
    "    lines = removeEmptyLines(lines)\n",
    "    \n",
    "    labels = getLabels(lines)\n",
    "    \n",
    "    \n",
    "    i=1\n",
    "    line = lines[i]\n",
    "    output = \"`define {} \\\\\\n\".format(MACRO_NAME)\n",
    "    while line != 'DATA:':\n",
    "        \n",
    "        instcode = compileLine(line,labels)\n",
    "        output += \"{0}[{1}] = {2};\".format(MEMORY_VAR,i,instcode) + \" \\\\\\n\"\n",
    "        \n",
    "        i+=1\n",
    "        line = lines[i]\n",
    "        \n",
    "    for j,line in enumerate(lines[i+1:]):\n",
    "        output += \"{0}[{1}] = {2};\".format(MEMORY_VAR,j+DATA_LOC,line.strip()) + \" \\\\\\n\"\n",
    "        \n",
    "    return output"
   ]
  },
  {
   "cell_type": "code",
   "execution_count": 205,
   "metadata": {
    "collapsed": false
   },
   "outputs": [
    {
     "name": "stdout",
     "output_type": "stream",
     "text": [
      "`define writeRam \\\n",
      "memory[1] = 16'b1000000000000110; \\\n",
      "memory[2] = 16'b0000000111010110; \\\n",
      "memory[3] = 16'b0000000000011001; \\\n",
      "memory[4] = 16'b1101000000000000; \\\n",
      "memory[5] = 16'b0000000000101001; \\\n",
      "memory[6] = 16'b0010000100110000; \\\n",
      "memory[128] = 15; \\\n",
      "memory[129] = 4; \\\n",
      "\n"
     ]
    }
   ],
   "source": [
    "print compileIntoM(sText)"
   ]
  },
  {
   "cell_type": "code",
   "execution_count": 72,
   "metadata": {
    "collapsed": false
   },
   "outputs": [
    {
     "name": "stdout",
     "output_type": "stream",
     "text": [
      "Appending to pythonAssemble.py\n"
     ]
    }
   ],
   "source": [
    "%%writefile pythonAssemble.py -a\n",
    "\n",
    "\n",
    "import sys\n",
    "filename = sys.argv[1]\n",
    "outname = \"code.v\"\n",
    "with open(filename) as f:\n",
    "    text = f.read()\n",
    "    compiledstring = compileIntoM(text)\n",
    "\n",
    "with open(outname,\"w\") as f:\n",
    "    f.write(compiledstring)"
   ]
  },
  {
   "cell_type": "code",
   "execution_count": 147,
   "metadata": {
    "collapsed": false
   },
   "outputs": [
    {
     "name": "stdout",
     "output_type": "stream",
     "text": [
      "Overwriting test.myasm\n"
     ]
    }
   ],
   "source": [
    "%%writefile test.myasm\n",
    "PROgRAM:\n",
    "LDI R0,$DATA\n",
    "LDI R13,#1\n",
    "LD R1,R0\n",
    "Addstmt : ADD R0  ,R0,R13\n",
    "LD R2,R0\n",
    "ADD R3,R1,R2\n",
    "\n",
    "DATA:\n",
    "15\n",
    "4"
   ]
  },
  {
   "cell_type": "code",
   "execution_count": 74,
   "metadata": {
    "collapsed": false
   },
   "outputs": [],
   "source": [
    "!python pythonAssemble.py test.myasm"
   ]
  },
  {
   "cell_type": "code",
   "execution_count": null,
   "metadata": {
    "collapsed": true
   },
   "outputs": [],
   "source": []
  }
 ],
 "metadata": {
  "kernelspec": {
   "display_name": "Python 2",
   "language": "python",
   "name": "python2"
  },
  "language_info": {
   "codemirror_mode": {
    "name": "ipython",
    "version": 2
   },
   "file_extension": ".py",
   "mimetype": "text/x-python",
   "name": "python",
   "nbconvert_exporter": "python",
   "pygments_lexer": "ipython2",
   "version": "2.7.12"
  }
 },
 "nbformat": 4,
 "nbformat_minor": 0
}
