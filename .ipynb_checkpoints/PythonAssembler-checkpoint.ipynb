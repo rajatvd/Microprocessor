{
 "cells": [
  {
   "cell_type": "code",
   "execution_count": 37,
   "metadata": {
    "collapsed": true
   },
   "outputs": [],
   "source": [
    "def compileIntoM(text):\n",
    "    lines = text.split(\"\\n\")\n",
    "    lines = [l.strip().upper() for l in lines]\n",
    "    return str(lines)"
   ]
  },
  {
   "cell_type": "code",
   "execution_count": 39,
   "metadata": {
    "collapsed": false
   },
   "outputs": [
    {
     "name": "stdout",
     "output_type": "stream",
     "text": [
      "Overwriting pythonAssemble.py\n"
     ]
    }
   ],
   "source": [
    "%%writefile pythonAssemble.py\n",
    "\n",
    "def compileIntoM(text):\n",
    "    lines = text.split(\"\\n\")\n",
    "    lines = [l.strip().upper() for l in lines]\n",
    "    return str(lines)\n",
    "\n",
    "\n",
    "\n",
    "import sys\n",
    "filename = sys.argv[1]\n",
    "outname = \"code.v\"\n",
    "with open(filename) as f:\n",
    "    text = f.read()\n",
    "    compiledstring = compileIntoM(text)\n",
    "\n",
    "with open(outname,\"w\") as f:\n",
    "    f.write(compiledstring)"
   ]
  },
  {
   "cell_type": "code",
   "execution_count": 40,
   "metadata": {
    "collapsed": false
   },
   "outputs": [
    {
     "name": "stdout",
     "output_type": "stream",
     "text": [
      "Overwriting test.myasm\n"
     ]
    }
   ],
   "source": [
    "%%writefile test.myasm\n",
    "PROgRAM:\n",
    "LDI R0,$DATA\n",
    "LDI R13,#1\n",
    "LD R1,R0\n",
    "ADD R0,R0,R13\n",
    "LD R2,R0\n",
    "ADD R3,R1,R2\n",
    "\n",
    "DATA:\n",
    "15\n",
    "4"
   ]
  },
  {
   "cell_type": "code",
   "execution_count": 41,
   "metadata": {
    "collapsed": false
   },
   "outputs": [],
   "source": [
    "!python pythonAssemble.py test.myasm"
   ]
  },
  {
   "cell_type": "code",
   "execution_count": null,
   "metadata": {
    "collapsed": true
   },
   "outputs": [],
   "source": []
  }
 ],
 "metadata": {
  "kernelspec": {
   "display_name": "Python 2",
   "language": "python",
   "name": "python2"
  },
  "language_info": {
   "codemirror_mode": {
    "name": "ipython",
    "version": 2
   },
   "file_extension": ".py",
   "mimetype": "text/x-python",
   "name": "python",
   "nbconvert_exporter": "python",
   "pygments_lexer": "ipython2",
   "version": "2.7.12"
  }
 },
 "nbformat": 4,
 "nbformat_minor": 0
}
